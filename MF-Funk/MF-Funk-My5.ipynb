{
 "cells": [
  {
   "metadata": {
    "collapsed": true,
    "ExecuteTime": {
     "start_time": "2024-10-17T14:09:31.711447Z"
    }
   },
   "cell_type": "code",
   "source": [
    "import numpy as np\n",
    "import tensorflow as tf\n",
    "import matplotlib.pyplot as plt\n",
    "import random\n",
    "\n",
    "# Configuration parameters\n",
    "num_users = 10\n",
    "num_movies = 10\n",
    "latent_dim = 66  # Latent vector length\n",
    "epochs = 3000\n",
    "stddev = 0.400001  # Standard deviation for noise in true rating\n",
    "learning_rate = 0.01  # How fast to move latent vectors\n",
    "\n",
    "m = list(range(10))\n",
    "def normalize(vectors):\n",
    "    norms = tf.norm(vectors, axis=1, keepdims=True)\n",
    "    return vectors / norms\n",
    "\n",
    "# Initialize latent vectors for users and movies\n",
    "starting_user_latent = tf.Variable( normalize(tf.random.uniform((num_users, latent_dim), minval=0, maxval=1, dtype='float32')))\n",
    "starting_movie_latent = tf.Variable( normalize(tf.random.uniform((num_movies, latent_dim), minval=0, maxval=1, dtype='float32')))\n",
    "# print(user_latent)\n",
    "# print(movie_latent)\n",
    "# movie_latent = normalize(tf.Variable(tf.random.normal((num_users, latent_dim), dtype='float32')))\n",
    "\n",
    "\n",
    "# row_norms = tf.norm(user_latent, axis=1, keepdims=True)\n",
    "# user_latent.assign(user_latent / row_norms)\n",
    "\n",
    "# print(10)\n",
    "# # user_latent[0].assign([1, 2, 3])\n",
    "# print(user_latent)\n",
    "# test = tf.Variable(user_latent[0]);\n",
    "# test2 = user_latent[0];\n",
    "# test.assign()\n",
    "# movie_latent = tf.Variable(tf.random.normal((num_movies, latent_dim), dtype='float32'))\n",
    "# print(tf.variable)\n",
    "\n",
    "# Normalize the latent vectors to ensure they are unit vectors\n",
    "\n",
    "# Create a random true rating matrix between 0 and 1\n",
    "true_ratings = tf.random.uniform((num_users, num_movies), minval=0, maxval=1, dtype='float32')\n",
    "\n",
    "# RMSE function to calculate root mean squared error between true and predicted ratings\n",
    "def calculate_rmse(true_ratings, predicted_ratings):\n",
    "    return tf.sqrt(tf.reduce_mean(tf.square(true_ratings - predicted_ratings)))\n",
    "\n",
    "# Store losses for plotting\n",
    "plt.figure(figsize=(12, 8))\n",
    "\n",
    "losses = {}\n",
    "# learning_rates = [0.05, 0.2, 0.5]\n",
    "learning_rates = [0.01]\n",
    "# stddevs = [0.01, 0.1, 0]\n",
    "stddevs = [0]\n",
    "for lr in learning_rates:\n",
    "    for sd in stddevs:\n",
    "        # Training loop\n",
    "        current_losses = []\n",
    "        user_latent = tf.Variable(tf.identity(starting_user_latent))\n",
    "        movie_latent = tf.Variable(tf.identity(starting_movie_latent))\n",
    "        \n",
    "        predicted_ratings_matrix = tf.matmul(user_latent, movie_latent, transpose_b=True)\n",
    "        # print(true_ratings)\n",
    "        # print(predicted_ratings_matrix)\n",
    "        loss = calculate_rmse(true_ratings, predicted_ratings_matrix)\n",
    "        current_losses.append(loss.numpy())\n",
    "        \n",
    "\n",
    "        for epoch in range(epochs):\n",
    "            # Normalize the user and movie latent vectors to maintain them as unit vectors\n",
    "            # user_latent.assign(normalize(user_latent))\n",
    "            # movie_latent.assign(normalize(movie_latent))\n",
    "\n",
    "            # Each user watches one random movie\n",
    "            for user_idx in range(num_users):\n",
    "                # Select a random movie for the user\n",
    "                movie_idx = random.randint(0, num_movies - 1)\n",
    "                \n",
    "                # Predicted rating (dot product of user and movie latent features)\n",
    "                predicted_rating = tf.reduce_sum(user_latent[user_idx] * movie_latent[movie_idx])\n",
    "                \n",
    "                # Actual rating with added noise\n",
    "                true_rating = true_ratings[user_idx, movie_idx] + np.random.normal(0, sd)\n",
    "                true_rating = tf.clip_by_value(true_rating, 0, 1)  # Ensure ratings stay between 0 and 1\n",
    "\n",
    "                # Calculate the error\n",
    "                error = true_rating - predicted_rating\n",
    "\n",
    "                # Adjust the latent vectors based on the error\n",
    "                adjustment = lr * error\n",
    "\n",
    "                user_latent[user_idx].assign(user_latent[user_idx] + adjustment * movie_latent[movie_idx])\n",
    "                movie_latent[movie_idx].assign(movie_latent[movie_idx] + adjustment * user_latent[user_idx])\n",
    "                # Move user and movie vectors closer or further apart based on the error\n",
    "                # user_latent.assign(tf.tensor_scatter_nd_add(user_latent, [[user_idx]], [adjustment * movie_latent[movie_idx]]))\n",
    "                # movie_latent.assign(tf.tensor_scatter_nd_add(movie_latent, [[movie_idx]], [adjustment * user_latent[user_idx]]))\n",
    "\n",
    "            # Normalize the user and movie latent vectors again to maintain them as unit vectors\n",
    "            user_latent.assign(normalize(user_latent))\n",
    "            movie_latent.assign(normalize(movie_latent))\n",
    "\n",
    "            # Calculate RMSE for the whole matrix after all users have rated a movie\n",
    "            predicted_ratings_matrix = tf.matmul(user_latent, movie_latent, transpose_b=True)\n",
    "            # print(true_ratings)\n",
    "            # print(predicted_ratings_matrix)\n",
    "            loss = calculate_rmse(true_ratings, predicted_ratings_matrix)\n",
    "            current_losses.append(loss.numpy())\n",
    "            if epoch % 100 == 0:\n",
    "                print(f'Epoch {epoch}, Loss (RMSE): {loss.numpy():.4f}')\n",
    "        losses[(lr, sd)] = current_losses\n",
    "\n",
    "\n",
    "            # Optional: Print progress\n",
    "for (lr, sd), loss_list in losses.items():\n",
    "    plt.plot(loss_list, label=f'learningrate={lr}')\n",
    "    # plt.plot(loss_list, label=f'learningrate={lr}, unpredictability stddev={sd}')\n",
    "\n",
    "\n",
    "# Plot the loss over epochs\n",
    "plt.title('RMSE over time varied by learning rate')\n",
    "plt.xlabel('Iterations')\n",
    "plt.ylabel('RMSE')\n",
    "plt.legend()\n",
    "plt.show()"
   ],
   "id": "initial_id",
   "outputs": [
    {
     "name": "stdout",
     "output_type": "stream",
     "text": [
      "Epoch 0, Loss (RMSE): 0.3887\n",
      "Epoch 100, Loss (RMSE): 0.2944\n",
      "Epoch 200, Loss (RMSE): 0.2287\n",
      "Epoch 300, Loss (RMSE): 0.1987\n",
      "Epoch 400, Loss (RMSE): 0.1801\n",
      "Epoch 500, Loss (RMSE): 0.1653\n",
      "Epoch 600, Loss (RMSE): 0.1526\n",
      "Epoch 700, Loss (RMSE): 0.1425\n",
      "Epoch 800, Loss (RMSE): 0.1323\n",
      "Epoch 900, Loss (RMSE): 0.1234\n",
      "Epoch 1000, Loss (RMSE): 0.1158\n",
      "Epoch 1100, Loss (RMSE): 0.1096\n",
      "Epoch 1200, Loss (RMSE): 0.1035\n",
      "Epoch 1300, Loss (RMSE): 0.0980\n",
      "Epoch 1400, Loss (RMSE): 0.0930\n",
      "Epoch 1500, Loss (RMSE): 0.0888\n"
     ]
    },
    {
     "ename": "KeyboardInterrupt",
     "evalue": "",
     "output_type": "error",
     "traceback": [
      "\u001B[1;31m---------------------------------------------------------------------------\u001B[0m",
      "\u001B[1;31mKeyboardInterrupt\u001B[0m                         Traceback (most recent call last)",
      "\u001B[1;32m~\\AppData\\Local\\Temp\\ipykernel_28228\\2998320722.py\u001B[0m in \u001B[0;36m?\u001B[1;34m()\u001B[0m\n\u001B[0;32m     84\u001B[0m                 \u001B[0mtrue_rating\u001B[0m \u001B[1;33m=\u001B[0m \u001B[0mtrue_ratings\u001B[0m\u001B[1;33m[\u001B[0m\u001B[0muser_idx\u001B[0m\u001B[1;33m,\u001B[0m \u001B[0mmovie_idx\u001B[0m\u001B[1;33m]\u001B[0m \u001B[1;33m+\u001B[0m \u001B[0mnp\u001B[0m\u001B[1;33m.\u001B[0m\u001B[0mrandom\u001B[0m\u001B[1;33m.\u001B[0m\u001B[0mnormal\u001B[0m\u001B[1;33m(\u001B[0m\u001B[1;36m0\u001B[0m\u001B[1;33m,\u001B[0m \u001B[0msd\u001B[0m\u001B[1;33m)\u001B[0m\u001B[1;33m\u001B[0m\u001B[1;33m\u001B[0m\u001B[0m\n\u001B[0;32m     85\u001B[0m                 \u001B[0mtrue_rating\u001B[0m \u001B[1;33m=\u001B[0m \u001B[0mtf\u001B[0m\u001B[1;33m.\u001B[0m\u001B[0mclip_by_value\u001B[0m\u001B[1;33m(\u001B[0m\u001B[0mtrue_rating\u001B[0m\u001B[1;33m,\u001B[0m \u001B[1;36m0\u001B[0m\u001B[1;33m,\u001B[0m \u001B[1;36m1\u001B[0m\u001B[1;33m)\u001B[0m  \u001B[1;31m# Ensure ratings stay between 0 and 1\u001B[0m\u001B[1;33m\u001B[0m\u001B[1;33m\u001B[0m\u001B[0m\n\u001B[0;32m     86\u001B[0m \u001B[1;33m\u001B[0m\u001B[0m\n\u001B[0;32m     87\u001B[0m                 \u001B[1;31m# Calculate the error\u001B[0m\u001B[1;33m\u001B[0m\u001B[1;33m\u001B[0m\u001B[0m\n\u001B[1;32m---> 88\u001B[1;33m                 \u001B[0merror\u001B[0m \u001B[1;33m=\u001B[0m \u001B[0mtrue_rating\u001B[0m \u001B[1;33m-\u001B[0m \u001B[0mpredicted_rating\u001B[0m\u001B[1;33m\u001B[0m\u001B[1;33m\u001B[0m\u001B[0m\n\u001B[0m\u001B[0;32m     89\u001B[0m \u001B[1;33m\u001B[0m\u001B[0m\n\u001B[0;32m     90\u001B[0m                 \u001B[1;31m# Adjust the latent vectors based on the error\u001B[0m\u001B[1;33m\u001B[0m\u001B[1;33m\u001B[0m\u001B[0m\n\u001B[0;32m     91\u001B[0m                 \u001B[0madjustment\u001B[0m \u001B[1;33m=\u001B[0m \u001B[0mlr\u001B[0m \u001B[1;33m*\u001B[0m \u001B[0merror\u001B[0m\u001B[1;33m\u001B[0m\u001B[1;33m\u001B[0m\u001B[0m\n",
      "\u001B[1;32m~\\University\\OnderzoeksMethoden2\\Content_Recommendation_OMI\\MF-Funk\\.venv\\Lib\\site-packages\\tensorflow\\python\\util\\traceback_utils.py\u001B[0m in \u001B[0;36m?\u001B[1;34m(*args, **kwargs)\u001B[0m\n\u001B[0;32m    151\u001B[0m     \u001B[1;32mexcept\u001B[0m \u001B[0mException\u001B[0m \u001B[1;32mas\u001B[0m \u001B[0me\u001B[0m\u001B[1;33m:\u001B[0m\u001B[1;33m\u001B[0m\u001B[1;33m\u001B[0m\u001B[0m\n\u001B[0;32m    152\u001B[0m       \u001B[0mfiltered_tb\u001B[0m \u001B[1;33m=\u001B[0m \u001B[0m_process_traceback_frames\u001B[0m\u001B[1;33m(\u001B[0m\u001B[0me\u001B[0m\u001B[1;33m.\u001B[0m\u001B[0m__traceback__\u001B[0m\u001B[1;33m)\u001B[0m\u001B[1;33m\u001B[0m\u001B[1;33m\u001B[0m\u001B[0m\n\u001B[0;32m    153\u001B[0m       \u001B[1;32mraise\u001B[0m \u001B[0me\u001B[0m\u001B[1;33m.\u001B[0m\u001B[0mwith_traceback\u001B[0m\u001B[1;33m(\u001B[0m\u001B[0mfiltered_tb\u001B[0m\u001B[1;33m)\u001B[0m \u001B[1;32mfrom\u001B[0m \u001B[1;32mNone\u001B[0m\u001B[1;33m\u001B[0m\u001B[1;33m\u001B[0m\u001B[0m\n\u001B[0;32m    154\u001B[0m     \u001B[1;32mfinally\u001B[0m\u001B[1;33m:\u001B[0m\u001B[1;33m\u001B[0m\u001B[1;33m\u001B[0m\u001B[0m\n\u001B[1;32m--> 155\u001B[1;33m       \u001B[1;32mdel\u001B[0m \u001B[0mfiltered_tb\u001B[0m\u001B[1;33m\u001B[0m\u001B[1;33m\u001B[0m\u001B[0m\n\u001B[0m",
      "\u001B[1;32m~\\University\\OnderzoeksMethoden2\\Content_Recommendation_OMI\\MF-Funk\\.venv\\Lib\\site-packages\\tensorflow\\python\\ops\\math_ops.py\u001B[0m in \u001B[0;36m?\u001B[1;34m(x, y)\u001B[0m\n\u001B[0;32m   1456\u001B[0m         \u001B[1;31m# TODO(b/178860388): Figure out why binary_op_wrapper and\u001B[0m\u001B[1;33m\u001B[0m\u001B[1;33m\u001B[0m\u001B[0m\n\u001B[0;32m   1457\u001B[0m         \u001B[1;31m#   r_binary_op_wrapper use different force_same_dtype values.\u001B[0m\u001B[1;33m\u001B[0m\u001B[1;33m\u001B[0m\u001B[0m\n\u001B[0;32m   1458\u001B[0m         \u001B[0mx\u001B[0m\u001B[1;33m,\u001B[0m \u001B[0my\u001B[0m \u001B[1;33m=\u001B[0m \u001B[0mmaybe_promote_tensors\u001B[0m\u001B[1;33m(\u001B[0m\u001B[0mx\u001B[0m\u001B[1;33m,\u001B[0m \u001B[0my\u001B[0m\u001B[1;33m)\u001B[0m\u001B[1;33m\u001B[0m\u001B[1;33m\u001B[0m\u001B[0m\n\u001B[0;32m   1459\u001B[0m         \u001B[1;32mreturn\u001B[0m \u001B[0mfunc\u001B[0m\u001B[1;33m(\u001B[0m\u001B[0mx\u001B[0m\u001B[1;33m,\u001B[0m \u001B[0my\u001B[0m\u001B[1;33m,\u001B[0m \u001B[0mname\u001B[0m\u001B[1;33m=\u001B[0m\u001B[0mname\u001B[0m\u001B[1;33m)\u001B[0m\u001B[1;33m\u001B[0m\u001B[1;33m\u001B[0m\u001B[0m\n\u001B[1;32m-> 1460\u001B[1;33m       \u001B[1;32mexcept\u001B[0m \u001B[1;33m(\u001B[0m\u001B[0mTypeError\u001B[0m\u001B[1;33m,\u001B[0m \u001B[0mValueError\u001B[0m\u001B[1;33m)\u001B[0m \u001B[1;32mas\u001B[0m \u001B[0me\u001B[0m\u001B[1;33m:\u001B[0m\u001B[1;33m\u001B[0m\u001B[1;33m\u001B[0m\u001B[0m\n\u001B[0m\u001B[0;32m   1461\u001B[0m         \u001B[1;31m# Even if dispatching the op failed, the RHS may be a tensor aware\u001B[0m\u001B[1;33m\u001B[0m\u001B[1;33m\u001B[0m\u001B[0m\n\u001B[0;32m   1462\u001B[0m         \u001B[1;31m# object that can implement the operator with knowledge of itself\u001B[0m\u001B[1;33m\u001B[0m\u001B[1;33m\u001B[0m\u001B[0m\n\u001B[0;32m   1463\u001B[0m         \u001B[1;31m# and the tensor.\u001B[0m\u001B[1;33m\u001B[0m\u001B[1;33m\u001B[0m\u001B[0m\n",
      "\u001B[1;32m~\\University\\OnderzoeksMethoden2\\Content_Recommendation_OMI\\MF-Funk\\.venv\\Lib\\site-packages\\tensorflow\\python\\util\\traceback_utils.py\u001B[0m in \u001B[0;36m?\u001B[1;34m(*args, **kwargs)\u001B[0m\n\u001B[0;32m    151\u001B[0m     \u001B[1;32mexcept\u001B[0m \u001B[0mException\u001B[0m \u001B[1;32mas\u001B[0m \u001B[0me\u001B[0m\u001B[1;33m:\u001B[0m\u001B[1;33m\u001B[0m\u001B[1;33m\u001B[0m\u001B[0m\n\u001B[0;32m    152\u001B[0m       \u001B[0mfiltered_tb\u001B[0m \u001B[1;33m=\u001B[0m \u001B[0m_process_traceback_frames\u001B[0m\u001B[1;33m(\u001B[0m\u001B[0me\u001B[0m\u001B[1;33m.\u001B[0m\u001B[0m__traceback__\u001B[0m\u001B[1;33m)\u001B[0m\u001B[1;33m\u001B[0m\u001B[1;33m\u001B[0m\u001B[0m\n\u001B[0;32m    153\u001B[0m       \u001B[1;32mraise\u001B[0m \u001B[0me\u001B[0m\u001B[1;33m.\u001B[0m\u001B[0mwith_traceback\u001B[0m\u001B[1;33m(\u001B[0m\u001B[0mfiltered_tb\u001B[0m\u001B[1;33m)\u001B[0m \u001B[1;32mfrom\u001B[0m \u001B[1;32mNone\u001B[0m\u001B[1;33m\u001B[0m\u001B[1;33m\u001B[0m\u001B[0m\n\u001B[0;32m    154\u001B[0m     \u001B[1;32mfinally\u001B[0m\u001B[1;33m:\u001B[0m\u001B[1;33m\u001B[0m\u001B[1;33m\u001B[0m\u001B[0m\n\u001B[1;32m--> 155\u001B[1;33m       \u001B[1;32mdel\u001B[0m \u001B[0mfiltered_tb\u001B[0m\u001B[1;33m\u001B[0m\u001B[1;33m\u001B[0m\u001B[0m\n\u001B[0m",
      "\u001B[1;32m~\\University\\OnderzoeksMethoden2\\Content_Recommendation_OMI\\MF-Funk\\.venv\\Lib\\site-packages\\tensorflow\\python\\util\\dispatch.py\u001B[0m in \u001B[0;36m?\u001B[1;34m(*args, **kwargs)\u001B[0m\n\u001B[0;32m   1173\u001B[0m \u001B[1;33m\u001B[0m\u001B[0m\n\u001B[0;32m   1174\u001B[0m       \u001B[1;31m# Fallback dispatch system (dispatch v1):\u001B[0m\u001B[1;33m\u001B[0m\u001B[1;33m\u001B[0m\u001B[0m\n\u001B[0;32m   1175\u001B[0m       \u001B[1;32mtry\u001B[0m\u001B[1;33m:\u001B[0m\u001B[1;33m\u001B[0m\u001B[1;33m\u001B[0m\u001B[0m\n\u001B[0;32m   1176\u001B[0m         \u001B[1;32mreturn\u001B[0m \u001B[0mdispatch_target\u001B[0m\u001B[1;33m(\u001B[0m\u001B[1;33m*\u001B[0m\u001B[0margs\u001B[0m\u001B[1;33m,\u001B[0m \u001B[1;33m**\u001B[0m\u001B[0mkwargs\u001B[0m\u001B[1;33m)\u001B[0m\u001B[1;33m\u001B[0m\u001B[1;33m\u001B[0m\u001B[0m\n\u001B[1;32m-> 1177\u001B[1;33m       \u001B[1;32mexcept\u001B[0m \u001B[1;33m(\u001B[0m\u001B[0mTypeError\u001B[0m\u001B[1;33m,\u001B[0m \u001B[0mValueError\u001B[0m\u001B[1;33m)\u001B[0m\u001B[1;33m:\u001B[0m\u001B[1;33m\u001B[0m\u001B[1;33m\u001B[0m\u001B[0m\n\u001B[0m\u001B[0;32m   1178\u001B[0m         \u001B[1;31m# Note: convert_to_eager_tensor currently raises a ValueError, not a\u001B[0m\u001B[1;33m\u001B[0m\u001B[1;33m\u001B[0m\u001B[0m\n\u001B[0;32m   1179\u001B[0m         \u001B[1;31m# TypeError, when given unexpected types.  So we need to catch both.\u001B[0m\u001B[1;33m\u001B[0m\u001B[1;33m\u001B[0m\u001B[0m\n\u001B[0;32m   1180\u001B[0m         \u001B[0mresult\u001B[0m \u001B[1;33m=\u001B[0m \u001B[0mdispatch\u001B[0m\u001B[1;33m(\u001B[0m\u001B[0mop_dispatch_handler\u001B[0m\u001B[1;33m,\u001B[0m \u001B[0margs\u001B[0m\u001B[1;33m,\u001B[0m \u001B[0mkwargs\u001B[0m\u001B[1;33m)\u001B[0m\u001B[1;33m\u001B[0m\u001B[1;33m\u001B[0m\u001B[0m\n",
      "\u001B[1;32m~\\University\\OnderzoeksMethoden2\\Content_Recommendation_OMI\\MF-Funk\\.venv\\Lib\\site-packages\\tensorflow\\python\\ops\\math_ops.py\u001B[0m in \u001B[0;36m?\u001B[1;34m(x, y, name)\u001B[0m\n\u001B[0;32m    545\u001B[0m \u001B[1;33m@\u001B[0m\u001B[0mtf_export\u001B[0m\u001B[1;33m(\u001B[0m\u001B[1;34m\"math.subtract\"\u001B[0m\u001B[1;33m,\u001B[0m \u001B[1;34m\"subtract\"\u001B[0m\u001B[1;33m)\u001B[0m\u001B[1;33m\u001B[0m\u001B[1;33m\u001B[0m\u001B[0m\n\u001B[0;32m    546\u001B[0m \u001B[1;33m@\u001B[0m\u001B[0mdispatch\u001B[0m\u001B[1;33m.\u001B[0m\u001B[0mregister_binary_elementwise_api\u001B[0m\u001B[1;33m\u001B[0m\u001B[1;33m\u001B[0m\u001B[0m\n\u001B[0;32m    547\u001B[0m \u001B[1;33m@\u001B[0m\u001B[0mdispatch\u001B[0m\u001B[1;33m.\u001B[0m\u001B[0madd_dispatch_support\u001B[0m\u001B[1;33m\u001B[0m\u001B[1;33m\u001B[0m\u001B[0m\n\u001B[0;32m    548\u001B[0m \u001B[1;32mdef\u001B[0m \u001B[0msubtract\u001B[0m\u001B[1;33m(\u001B[0m\u001B[0mx\u001B[0m\u001B[1;33m,\u001B[0m \u001B[0my\u001B[0m\u001B[1;33m,\u001B[0m \u001B[0mname\u001B[0m\u001B[1;33m=\u001B[0m\u001B[1;32mNone\u001B[0m\u001B[1;33m)\u001B[0m\u001B[1;33m:\u001B[0m\u001B[1;33m\u001B[0m\u001B[1;33m\u001B[0m\u001B[0m\n\u001B[1;32m--> 549\u001B[1;33m   \u001B[1;32mreturn\u001B[0m \u001B[0mgen_math_ops\u001B[0m\u001B[1;33m.\u001B[0m\u001B[0msub\u001B[0m\u001B[1;33m(\u001B[0m\u001B[0mx\u001B[0m\u001B[1;33m,\u001B[0m \u001B[0my\u001B[0m\u001B[1;33m,\u001B[0m \u001B[0mname\u001B[0m\u001B[1;33m)\u001B[0m\u001B[1;33m\u001B[0m\u001B[1;33m\u001B[0m\u001B[0m\n\u001B[0m",
      "\u001B[1;32m~\\University\\OnderzoeksMethoden2\\Content_Recommendation_OMI\\MF-Funk\\.venv\\Lib\\site-packages\\tensorflow\\python\\ops\\gen_math_ops.py\u001B[0m in \u001B[0;36m?\u001B[1;34m(x, y, name)\u001B[0m\n\u001B[0;32m  12622\u001B[0m         _ctx, \"Sub\", name, x, y)\n\u001B[0;32m  12623\u001B[0m       \u001B[1;32mreturn\u001B[0m \u001B[0m_result\u001B[0m\u001B[1;33m\u001B[0m\u001B[1;33m\u001B[0m\u001B[0m\n\u001B[0;32m  12624\u001B[0m     \u001B[1;32mexcept\u001B[0m \u001B[0m_core\u001B[0m\u001B[1;33m.\u001B[0m\u001B[0m_NotOkStatusException\u001B[0m \u001B[1;32mas\u001B[0m \u001B[0me\u001B[0m\u001B[1;33m:\u001B[0m\u001B[1;33m\u001B[0m\u001B[1;33m\u001B[0m\u001B[0m\n\u001B[0;32m  12625\u001B[0m       \u001B[0m_ops\u001B[0m\u001B[1;33m.\u001B[0m\u001B[0mraise_from_not_ok_status\u001B[0m\u001B[1;33m(\u001B[0m\u001B[0me\u001B[0m\u001B[1;33m,\u001B[0m \u001B[0mname\u001B[0m\u001B[1;33m)\u001B[0m\u001B[1;33m\u001B[0m\u001B[1;33m\u001B[0m\u001B[0m\n\u001B[1;32m> 12626\u001B[1;33m     \u001B[1;32mexcept\u001B[0m \u001B[0m_core\u001B[0m\u001B[1;33m.\u001B[0m\u001B[0m_FallbackException\u001B[0m\u001B[1;33m:\u001B[0m\u001B[1;33m\u001B[0m\u001B[1;33m\u001B[0m\u001B[0m\n\u001B[0m\u001B[0;32m  12627\u001B[0m       \u001B[1;32mpass\u001B[0m\u001B[1;33m\u001B[0m\u001B[1;33m\u001B[0m\u001B[0m\n\u001B[0;32m  12628\u001B[0m     \u001B[1;32mtry\u001B[0m\u001B[1;33m:\u001B[0m\u001B[1;33m\u001B[0m\u001B[1;33m\u001B[0m\u001B[0m\n\u001B[0;32m  12629\u001B[0m       return sub_eager_fallback(\n",
      "\u001B[1;31mKeyboardInterrupt\u001B[0m: "
     ]
    },
    {
     "data": {
      "text/plain": [
       "<Figure size 1200x800 with 0 Axes>"
      ]
     },
     "metadata": {},
     "output_type": "display_data"
    }
   ],
   "execution_count": 1
  },
  {
   "metadata": {},
   "cell_type": "code",
   "outputs": [],
   "execution_count": null,
   "source": "",
   "id": "1a86b0388aabceb"
  },
  {
   "metadata": {},
   "cell_type": "code",
   "outputs": [],
   "execution_count": null,
   "source": [
    "\n",
    "m"
   ],
   "id": "25b8778fff2086c6"
  },
  {
   "metadata": {},
   "cell_type": "code",
   "outputs": [],
   "execution_count": null,
   "source": "",
   "id": "d6dca863023862a4"
  },
  {
   "metadata": {
    "ExecuteTime": {
     "end_time": "2024-10-16T18:38:27.538541Z",
     "start_time": "2024-10-16T18:38:27.535684Z"
    }
   },
   "cell_type": "code",
   "source": "",
   "id": "ec4ee2af943cd10f",
   "outputs": [],
   "execution_count": null
  },
  {
   "metadata": {
    "ExecuteTime": {
     "end_time": "2024-10-16T18:38:31.843880Z",
     "start_time": "2024-10-16T18:38:31.840729Z"
    }
   },
   "cell_type": "code",
   "source": "",
   "id": "34155ad1bfc975f5",
   "outputs": [],
   "execution_count": null
  },
  {
   "metadata": {},
   "cell_type": "code",
   "outputs": [],
   "execution_count": null,
   "source": "",
   "id": "6c9b41f5f735df6e"
  }
 ],
 "metadata": {
  "kernelspec": {
   "display_name": "Python 3",
   "language": "python",
   "name": "python3"
  },
  "language_info": {
   "codemirror_mode": {
    "name": "ipython",
    "version": 2
   },
   "file_extension": ".py",
   "mimetype": "text/x-python",
   "name": "python",
   "nbconvert_exporter": "python",
   "pygments_lexer": "ipython2",
   "version": "2.7.6"
  }
 },
 "nbformat": 4,
 "nbformat_minor": 5
}
