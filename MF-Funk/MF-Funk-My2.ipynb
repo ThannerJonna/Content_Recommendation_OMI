{
 "cells": [
  {
   "metadata": {
    "collapsed": true,
    "ExecuteTime": {
     "end_time": "2024-10-16T18:10:37.353298Z",
     "start_time": "2024-10-16T18:10:37.342640Z"
    }
   },
   "cell_type": "code",
   "source": [
    "import numpy as np\n",
    "import tensorflow as tf\n",
    "import matplotlib.pyplot as plt\n",
    "import random\n",
    "\n",
    "# Configuration parameters\n",
    "num_users = 10\n",
    "num_movies = 10\n",
    "latent_dim = 3  # Latent vector length\n",
    "epochs = 10\n",
    "stddev = 0.1  # Standard deviation for noise in true rating\n",
    "learning_rate = 0.01  # How fast to move latent vectors\n",
    "\n",
    "m = list(range(10))\n",
    "\n",
    "# Initialize latent vectors for users and movies\n",
    "user_latent = tf.Variable(tf.random.normal((num_users, latent_dim), dtype='float32'))\n",
    "print(10)\n",
    "user_latent[0].assign([1, 2, 3])\n",
    "user_latent[2].assign([1, 2, 3])\n",
    "print(user_latent)\n",
    "test = tf.Variable(user_latent[0]);\n",
    "test2 = user_latent[0];\n",
    "movie_latent = tf.Variable(tf.random.normal((num_movies, latent_dim), dtype='float32'))"
   ],
   "id": "initial_id",
   "outputs": [
    {
     "name": "stdout",
     "output_type": "stream",
     "text": [
      "10\n",
      "<tf.Variable 'Variable:0' shape=(10, 3) dtype=float32, numpy=\n",
      "array([[ 1.        ,  2.        ,  3.        ],\n",
      "       [-0.7374856 , -1.0504035 ,  0.4485662 ],\n",
      "       [ 1.        ,  2.        ,  3.        ],\n",
      "       [-0.6313804 ,  0.6814272 ,  1.9009819 ],\n",
      "       [-3.007327  ,  0.2865349 , -0.12592417],\n",
      "       [ 0.5872841 ,  0.8919518 ,  1.8776363 ],\n",
      "       [-0.07004857,  0.15172783, -2.16526   ],\n",
      "       [-1.8940023 , -1.3159975 , -1.3702147 ],\n",
      "       [-0.04903816,  0.1608359 ,  0.29242545],\n",
      "       [ 1.2552099 , -0.5592906 , -0.29571623]], dtype=float32)>\n"
     ]
    }
   ],
   "execution_count": 4
  },
  {
   "metadata": {
    "ExecuteTime": {
     "end_time": "2024-10-16T18:09:40.327729Z",
     "start_time": "2024-10-16T18:09:40.324831Z"
    }
   },
   "cell_type": "code",
   "source": "",
   "id": "4e4f2546f0a0b0f0",
   "outputs": [],
   "execution_count": null
  },
  {
   "metadata": {},
   "cell_type": "code",
   "outputs": [],
   "execution_count": null,
   "source": "",
   "id": "c0a1fbf5a45b880b"
  }
 ],
 "metadata": {
  "kernelspec": {
   "display_name": "Python 3",
   "language": "python",
   "name": "python3"
  },
  "language_info": {
   "codemirror_mode": {
    "name": "ipython",
    "version": 2
   },
   "file_extension": ".py",
   "mimetype": "text/x-python",
   "name": "python",
   "nbconvert_exporter": "python",
   "pygments_lexer": "ipython2",
   "version": "2.7.6"
  }
 },
 "nbformat": 4,
 "nbformat_minor": 5
}
